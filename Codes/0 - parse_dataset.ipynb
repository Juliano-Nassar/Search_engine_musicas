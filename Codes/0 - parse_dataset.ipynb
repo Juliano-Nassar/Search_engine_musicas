{
 "cells": [
  {
   "cell_type": "markdown",
   "metadata": {},
   "source": [
    "# 0 - Dataset Parser\n",
    "dataset from kaggle: https://www.kaggle.com/neisse/scrapped-lyrics-from-6-genres"
   ]
  },
  {
   "cell_type": "code",
   "execution_count": 11,
   "metadata": {},
   "outputs": [],
   "source": [
    "# Import librarys\n",
    "import pandas as pd\n",
    "import json"
   ]
  },
  {
   "cell_type": "code",
   "execution_count": 12,
   "metadata": {},
   "outputs": [],
   "source": [
    "# Paths to input docs info\n",
    "DOCS_FOLDER = '../Data/music_info/'\n",
    "ARTIST_PATH = DOCS_FOLDER + 'artists-data_org.csv'\n",
    "LYRICS_PATH = DOCS_FOLDER + 'lyrics-data_org.csv'"
   ]
  },
  {
   "cell_type": "code",
   "execution_count": 13,
   "metadata": {},
   "outputs": [],
   "source": [
    "# Read docs info\n",
    "artists = pd.read_csv(ARTIST_PATH)\n",
    "musics = pd.read_csv(LYRICS_PATH)"
   ]
  },
  {
   "cell_type": "code",
   "execution_count": 14,
   "metadata": {},
   "outputs": [
    {
     "data": {
      "text/plain": [
       "Index(['ALink', 'SName', 'SLink', 'Lyric', 'Idiom'], dtype='object')"
      ]
     },
     "execution_count": 14,
     "metadata": {},
     "output_type": "execute_result"
    }
   ],
   "source": [
    "musics.columns"
   ]
  },
  {
   "cell_type": "code",
   "execution_count": 15,
   "metadata": {},
   "outputs": [
    {
     "data": {
      "text/plain": [
       "Index(['Artist', 'Songs', 'Popularity', 'Link', 'Genre', 'Genres'], dtype='object')"
      ]
     },
     "execution_count": 15,
     "metadata": {},
     "output_type": "execute_result"
    }
   ],
   "source": [
    "artists.columns"
   ]
  },
  {
   "cell_type": "code",
   "execution_count": 16,
   "metadata": {},
   "outputs": [
    {
     "data": {
      "text/plain": [
       "Index(['SName', 'SLink', 'Lyric', 'Idiom'], dtype='object')"
      ]
     },
     "execution_count": 16,
     "metadata": {},
     "output_type": "execute_result"
    }
   ],
   "source": [
    "# Merge Artists names with musics names by artist link\n",
    "artists_aux = artists[['Artist','Link']]\n",
    "musics_merged = musics.merge(artists_aux,left_on='ALink',right_on='Link')\n",
    "musics_merged = musics_merged.drop(['Link','ALink'], axis=1)\n",
    "\n",
    "musics_merged['SName'] += \" ||| \" + musics_merged['Artist']\n",
    "musics_merged = musics_merged.drop(['Artist'],axis = 1)\n",
    "musics_merged.columns"
   ]
  },
  {
   "cell_type": "code",
   "execution_count": 17,
   "metadata": {},
   "outputs": [],
   "source": [
    "# Drop duplicated rows and missing Lyrics\n",
    "musics_droped = musics_merged.drop_duplicates(['SName'])\n",
    "musics_droped = musics_droped.dropna(subset=['Lyric','Idiom']).reset_index(drop=True)"
   ]
  },
  {
   "cell_type": "code",
   "execution_count": 18,
   "metadata": {},
   "outputs": [
    {
     "data": {
      "text/plain": [
       "(227513, 4)"
      ]
     },
     "execution_count": 18,
     "metadata": {},
     "output_type": "execute_result"
    }
   ],
   "source": [
    "musics_merged.shape"
   ]
  },
  {
   "cell_type": "code",
   "execution_count": 19,
   "metadata": {},
   "outputs": [
    {
     "data": {
      "text/plain": [
       "(158702, 4)"
      ]
     },
     "execution_count": 19,
     "metadata": {},
     "output_type": "execute_result"
    }
   ],
   "source": [
    "musics_droped.shape"
   ]
  },
  {
   "cell_type": "code",
   "execution_count": 20,
   "metadata": {},
   "outputs": [],
   "source": [
    "musics_droped.to_csv(DOCS_FOLDER + 'musics_parsed.csv')"
   ]
  }
 ],
 "metadata": {
  "kernelspec": {
   "display_name": "Python 3",
   "language": "python",
   "name": "python3"
  },
  "language_info": {
   "codemirror_mode": {
    "name": "ipython",
    "version": 3
   },
   "file_extension": ".py",
   "mimetype": "text/x-python",
   "name": "python",
   "nbconvert_exporter": "python",
   "pygments_lexer": "ipython3",
   "version": "3.8.3"
  }
 },
 "nbformat": 4,
 "nbformat_minor": 4
}
